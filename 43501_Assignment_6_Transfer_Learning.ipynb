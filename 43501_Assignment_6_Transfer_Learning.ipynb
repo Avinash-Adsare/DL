{
  "cells": [
    {
      "cell_type": "code",
      "execution_count": null,
      "metadata": {
        "id": "rpzf0dsi75XB"
      },
      "outputs": [],
      "source": [
        "from keras.applications import ResNet50\n",
        "from keras.layers import Flatten, Dense, Dropout\n",
        "from keras.models import Model\n",
        "from keras.optimizers import SGD\n",
        "from keras.preprocessing.image import ImageDataGenerator #for preprocesing for new genarate dataset"
      ]
    },
    {
      "cell_type": "code",
      "execution_count": null,
      "metadata": {
        "id": "sc4uxvXS75XC"
      },
      "outputs": [],
      "source": [
        "# Load pre-trained ResNet50 model\n",
        "base_model = ResNet50(weights='imagenet', include_top=False, input_shape=(224, 224, 3))"
      ]
    },
    {
      "cell_type": "code",
      "execution_count": null,
      "metadata": {
        "id": "N_A2cw1p75XD"
      },
      "outputs": [],
      "source": [
        "# Freeze early layers\n",
        "for layer in base_model.layers[:-4]: #freeze layers last 4\n",
        "    layer.trainable = False\n",
        "\n",
        "# Add custom classifier\n",
        "x = base_model.output #take o/p base model\n",
        "x = Flatten()(x)\n",
        "x = Dense(512, activation='relu')(x)\n",
        "x = Dropout(0.5)(x)\n",
        "predictions = Dense(2, activation='softmax')(x) #new o/p dense layer"
      ]
    },
    {
      "cell_type": "code",
      "execution_count": null,
      "metadata": {
        "id": "foeOs2E475XD"
      },
      "outputs": [],
      "source": [
        "# Create full model\n",
        "model = Model(inputs=base_model.input, outputs=predictions) #imported model\n",
        "\n",
        "# Compile model\n",
        "model.compile(loss='categorical_crossentropy',\n",
        "              optimizer='rmsprop',\n",
        "              metrics=['accuracy'])"
      ]
    },
    {
      "cell_type": "code",
      "execution_count": null,
      "metadata": {
        "id": "Oe8R0yNu75XD",
        "outputId": "f8018cac-c3ea-47c3-a6f1-6152aa018735"
      },
      "outputs": [
        {
          "name": "stdout",
          "output_type": "stream",
          "text": [
            "Found 10 images belonging to 2 classes.\n",
            "Found 10 images belonging to 2 classes.\n"
          ]
        }
      ],
      "source": [
        "# Create generators (new dataset made)\n",
        "train_datagen = ImageDataGenerator(rescale=1./255, #rescale size change\n",
        "                                   shear_range=0.2,  #strech the image\n",
        "                                   zoom_range=0.2,\n",
        "                                   horizontal_flip=True)\n",
        "\n",
        "test_datagen = ImageDataGenerator(rescale=1./255)\n",
        "\n",
        "train_generator = train_datagen.flow_from_directory(\n",
        "        'C:Users/yashs/Desktop/data/train',\n",
        "        target_size=(224, 224),\n",
        "        batch_size=2,\n",
        "        class_mode='categorical')\n",
        "\n",
        "validation_generator = test_datagen.flow_from_directory(\n",
        "        'C:Users/yashs/Desktop/data/validation',\n",
        "        target_size=(224, 224),\n",
        "        batch_size=2,\n",
        "        class_mode='categorical')"
      ]
    },
    {
      "cell_type": "code",
      "execution_count": null,
      "metadata": {
        "id": "oPOUn3Nu75XE",
        "outputId": "01da3f9e-fff4-4174-da38-2a8098efabe5"
      },
      "outputs": [
        {
          "name": "stderr",
          "output_type": "stream",
          "text": [
            "C:\\Users\\yashs\\AppData\\Local\\Temp\\ipykernel_12148\\4094929015.py:2: UserWarning: `Model.fit_generator` is deprecated and will be removed in a future version. Please use `Model.fit`, which supports generators.\n",
            "  model.fit_generator(\n"
          ]
        },
        {
          "name": "stdout",
          "output_type": "stream",
          "text": [
            "Epoch 1/10\n",
            "5/5 [==============================] - ETA: 0s - loss: 104.1309 - accuracy: 0.5000WARNING:tensorflow:Your input ran out of data; interrupting training. Make sure that your dataset or generator can generate at least `steps_per_epoch * epochs` batches (in this case, 50 batches). You may need to use the repeat() function when building your dataset.\n",
            "5/5 [==============================] - 13s 2s/step - loss: 104.1309 - accuracy: 0.5000 - val_loss: 50.9835 - val_accuracy: 0.5000\n",
            "Epoch 2/10\n",
            "5/5 [==============================] - 4s 713ms/step - loss: 26.9780 - accuracy: 0.5000\n",
            "Epoch 3/10\n",
            "5/5 [==============================] - 4s 712ms/step - loss: 32.5492 - accuracy: 0.4000\n",
            "Epoch 4/10\n",
            "5/5 [==============================] - 4s 696ms/step - loss: 9.2851 - accuracy: 0.8000\n",
            "Epoch 5/10\n",
            "5/5 [==============================] - 4s 701ms/step - loss: 10.4539 - accuracy: 0.4000\n",
            "Epoch 6/10\n",
            "5/5 [==============================] - 4s 704ms/step - loss: 4.7072 - accuracy: 0.7000\n",
            "Epoch 7/10\n",
            "5/5 [==============================] - 4s 695ms/step - loss: 12.8502 - accuracy: 0.5000\n",
            "Epoch 8/10\n",
            "5/5 [==============================] - 4s 701ms/step - loss: 17.4825 - accuracy: 0.6000\n",
            "Epoch 9/10\n",
            "5/5 [==============================] - 4s 735ms/step - loss: 22.7603 - accuracy: 0.7000\n",
            "Epoch 10/10\n",
            "5/5 [==============================] - 4s 742ms/step - loss: 7.5460 - accuracy: 0.7000\n"
          ]
        },
        {
          "data": {
            "text/plain": [
              "<keras.callbacks.History at 0x14480138820>"
            ]
          },
          "execution_count": 6,
          "metadata": {},
          "output_type": "execute_result"
        }
      ],
      "source": [
        "# Train classifier layers\n",
        "model.fit_generator(      #fit generator\n",
        "        train_generator,\n",
        "        steps_per_epoch=5,\n",
        "        epochs=10,\n",
        "        validation_data=validation_generator,  #testing generator\n",
        "        validation_steps=50)"
      ]
    },
    {
      "cell_type": "code",
      "execution_count": null,
      "metadata": {
        "id": "OGx82tg775XE",
        "outputId": "6c89abaa-3edf-47b1-cc6d-ea345118575b"
      },
      "outputs": [
        {
          "name": "stdout",
          "output_type": "stream",
          "text": [
            "Epoch 1/10\n"
          ]
        },
        {
          "name": "stderr",
          "output_type": "stream",
          "text": [
            "c:\\Users\\yashs\\AppData\\Local\\Programs\\Python\\Python310\\lib\\site-packages\\keras\\optimizers\\optimizer_v2\\gradient_descent.py:114: UserWarning: The `lr` argument is deprecated, use `learning_rate` instead.\n",
            "  super().__init__(name, **kwargs)\n",
            "C:\\Users\\yashs\\AppData\\Local\\Temp\\ipykernel_12148\\57715641.py:10: UserWarning: `Model.fit_generator` is deprecated and will be removed in a future version. Please use `Model.fit`, which supports generators.\n",
            "  model.fit_generator(\n"
          ]
        },
        {
          "name": "stdout",
          "output_type": "stream",
          "text": [
            "5/5 [==============================] - ETA: 0s - loss: 5.1897 - accuracy: 0.8000WARNING:tensorflow:Your input ran out of data; interrupting training. Make sure that your dataset or generator can generate at least `steps_per_epoch * epochs` batches (in this case, 50 batches). You may need to use the repeat() function when building your dataset.\n",
            "5/5 [==============================] - 11s 1s/step - loss: 5.1897 - accuracy: 0.8000 - val_loss: 6.9425 - val_accuracy: 0.5000\n",
            "Epoch 2/10\n",
            "5/5 [==============================] - 3s 550ms/step - loss: 7.3826 - accuracy: 0.7000\n",
            "Epoch 3/10\n",
            "5/5 [==============================] - 3s 528ms/step - loss: 4.8474 - accuracy: 0.7000\n",
            "Epoch 4/10\n",
            "5/5 [==============================] - 3s 526ms/step - loss: 3.1142 - accuracy: 0.8000\n",
            "Epoch 5/10\n",
            "5/5 [==============================] - 3s 534ms/step - loss: 1.2466 - accuracy: 0.8000\n",
            "Epoch 6/10\n",
            "5/5 [==============================] - 3s 507ms/step - loss: 1.6814 - accuracy: 0.7000\n",
            "Epoch 7/10\n",
            "5/5 [==============================] - 3s 501ms/step - loss: 3.0961 - accuracy: 0.7000\n",
            "Epoch 8/10\n",
            "5/5 [==============================] - 3s 505ms/step - loss: 7.3061 - accuracy: 0.8000\n",
            "Epoch 9/10\n",
            "5/5 [==============================] - 2s 466ms/step - loss: 9.2606 - accuracy: 0.6000\n",
            "Epoch 10/10\n",
            "5/5 [==============================] - 2s 466ms/step - loss: 1.9310 - accuracy: 0.9000\n"
          ]
        },
        {
          "data": {
            "text/plain": [
              "<keras.callbacks.History at 0x144e0814e20>"
            ]
          },
          "execution_count": 7,
          "metadata": {},
          "output_type": "execute_result"
        }
      ],
      "source": [
        "# Unfreeze deeper layers\n",
        "for layer in base_model.layers[-6:]:  #end che layer unfreeze from 4 unfreeze\n",
        "    layer.trainable = True\n",
        "\n",
        "# Recompile and fine-tune model\n",
        "model.compile(optimizer=SGD(lr=0.0001, momentum=0.9),\n",
        "              loss='categorical_crossentropy',\n",
        "              metrics=['accuracy'])\n",
        "\n",
        "model.fit_generator(\n",
        "        train_generator,\n",
        "        steps_per_epoch=5,\n",
        "        epochs=10,\n",
        "        validation_data=validation_generator,\n",
        "        validation_steps=50)"
      ]
    },
    {
      "cell_type": "code",
      "execution_count": null,
      "metadata": {
        "id": "MWh65bcW75XE"
      },
      "outputs": [],
      "source": []
    }
  ],
  "metadata": {
    "kernelspec": {
      "display_name": "Python 3",
      "language": "python",
      "name": "python3"
    },
    "language_info": {
      "codemirror_mode": {
        "name": "ipython",
        "version": 3
      },
      "file_extension": ".py",
      "mimetype": "text/x-python",
      "name": "python",
      "nbconvert_exporter": "python",
      "pygments_lexer": "ipython3",
      "version": "3.10.9"
    },
    "orig_nbformat": 4,
    "colab": {
      "provenance": []
    }
  },
  "nbformat": 4,
  "nbformat_minor": 0
}